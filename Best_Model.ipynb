{
  "nbformat": 4,
  "nbformat_minor": 0,
  "metadata": {
    "colab": {
      "name": "Untitled2.ipynb",
      "provenance": []
    },
    "kernelspec": {
      "name": "python3",
      "display_name": "Python 3"
    },
    "language_info": {
      "name": "python"
    }
  },
  "cells": [
    {
      "cell_type": "code",
      "execution_count": null,
      "metadata": {
        "colab": {
          "base_uri": "https://localhost:8080/"
        },
        "id": "vx6m9-JCPL8C",
        "outputId": "896380e2-3573-4424-d298-8d3fbd1ad2ef"
      },
      "outputs": [
        {
          "output_type": "stream",
          "name": "stdout",
          "text": [
            "177\n",
            "              precision    recall  f1-score   support\n",
            "\n",
            "           0       0.99      1.00      0.99       287\n",
            "           1       1.00      0.99      0.99       292\n",
            "\n",
            "    accuracy                           0.99       579\n",
            "   macro avg       0.99      0.99      0.99       579\n",
            "weighted avg       0.99      0.99      0.99       579\n",
            "\n",
            "Accuracy = 0.9948186528497409\n"
          ]
        }
      ],
      "source": [
        "import pandas as pd \n",
        "import numpy as np\n",
        "import sklearn\n",
        "import sklearn.preprocessing\n",
        "from sklearn.model_selection import train_test_split\n",
        "from sklearn.preprocessing import StandardScaler\n",
        "from sklearn.ensemble import RandomForestClassifier\n",
        "\n",
        "\n",
        "data=pd.read_csv(\"https://github.com/andvise/DataAnalyticsDatasets/blob/f4c1e07915ddfe98f0f5434ec3f0e7f3900f35ab/dm_assignment2/sat_dataset_train.csv?raw=true\")\n",
        "#data.columns\n",
        "df=data.replace([np.inf, -np.inf], np.nan)#, inplace=True)\n",
        "df=df.fillna(0)\n",
        "#df\n",
        "x=df.loc[:,'c':'rwh_2_max']\n",
        "y=df.loc[:,'target']\n",
        "\n",
        "#train and test split\n",
        "from sklearn.model_selection import train_test_split\n",
        "x_train, x_test, y_train, y_test = train_test_split(x, y, test_size=0.30, random_state=20)\n",
        "\n",
        "#preprocessing\n",
        "from sklearn.preprocessing import StandardScaler\n",
        "scaler = StandardScaler()\n",
        "scaler.fit(x_train)\n",
        "\n",
        "x_train = scaler.transform(x_train)\n",
        "x_test = scaler.transform(x_test)\n",
        "\n",
        "\n",
        "from sklearn.model_selection import RandomizedSearchCV\n",
        "n_estimators = [int(x) for x in np.linspace(start = 100, stop = 200, num = 10)]\n",
        "\n",
        "#Convert to dictionary\n",
        "random_grid = {'n_estimators': n_estimators}\n",
        "\n",
        "#Create new RF object\n",
        "rf_2 = RandomForestClassifier()\n",
        "\n",
        "#Use GridSearch\n",
        "rf_random = RandomizedSearchCV(estimator = rf_2, param_distributions = random_grid)\n",
        "#Fit the model\n",
        "best_model = rf_random.fit(x_train,y_train)\n",
        "\n",
        "\n",
        "b = best_model.best_estimator_.get_params()['n_estimators']\n",
        "print(b)\n",
        "\n",
        "rf3 = RandomForestClassifier(n_estimators=b)\n",
        "\n",
        "#Train the RF classifier\n",
        "rf3.fit(x_train,y_train)\n",
        "\n",
        "from sklearn.metrics import classification_report, confusion_matrix\n",
        "print(classification_report(y_test, pred_rf3))\n",
        "print(\"Accuracy =\",sklearn.metrics.accuracy_score(y_test, pred_rf3))"
      ]
    },
    {
      "cell_type": "code",
      "source": [
        "from joblib import dump, load\n",
        "from io import BytesIO\n",
        "import requests\n",
        "import pickle\n",
        "pickle.dump(rf3, open(\"model.pkl\", \"wb\"))"
      ],
      "metadata": {
        "id": "CZN9QFYuRfGe"
      },
      "execution_count": null,
      "outputs": []
    }
  ]
}